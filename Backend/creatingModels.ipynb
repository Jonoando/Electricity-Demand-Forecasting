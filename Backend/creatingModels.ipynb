{
 "cells": [
  {
   "cell_type": "code",
   "execution_count": 1,
   "metadata": {},
   "outputs": [],
   "source": [
    "import pandas as pd\n",
    "import numpy as np\n",
    "from sklearn.metrics import mean_absolute_error, mean_squared_error, r2_score"
   ]
  },
  {
   "cell_type": "markdown",
   "metadata": {},
   "source": [
    "### Creating Training Data Structure"
   ]
  },
  {
   "cell_type": "code",
   "execution_count": 2,
   "metadata": {},
   "outputs": [
    {
     "name": "stderr",
     "output_type": "stream",
     "text": [
      "/var/folders/05/dgx_ky6d3n9f_vxn26lcln1h0000gn/T/ipykernel_71295/2458164464.py:7: UserWarning: Parsing dates in %d/%m/%Y %H:%M format when dayfirst=False (the default) was specified. Pass `dayfirst=True` or specify a format to silence this warning.\n",
      "  df_train['Time'] = pd.to_datetime(df_train['Time'])\n"
     ]
    }
   ],
   "source": [
    "df = pd.read_csv(\"/Users/anurag/Desktop/Computer Science/Monash/2023/FIT3164 Data Science Project Semester 2/Electricity-Demand-Forecasting/Data/data_for_analysis/actuals_1.csv\")\n",
    "df2 = pd.read_csv(\"/Users/anurag/Desktop/Computer Science/Monash/2023/FIT3164 Data Science Project Semester 2/Electricity-Demand-Forecasting/Data/data_for_analysis/actuals_2.csv\")\n",
    "\n",
    "#Create Whole Dataset\n",
    "df_train = pd.concat([df, df2], axis = 0)\n",
    "\n",
    "df_train['Time'] = pd.to_datetime(df_train['Time'])"
   ]
  },
  {
   "cell_type": "markdown",
   "metadata": {},
   "source": [
    "### Creating Test Data Structure"
   ]
  },
  {
   "cell_type": "code",
   "execution_count": 3,
   "metadata": {},
   "outputs": [
    {
     "name": "stderr",
     "output_type": "stream",
     "text": [
      "/var/folders/05/dgx_ky6d3n9f_vxn26lcln1h0000gn/T/ipykernel_71295/2712329862.py:3: UserWarning: Parsing dates in %d/%m/%Y %H:%M format when dayfirst=False (the default) was specified. Pass `dayfirst=True` or specify a format to silence this warning.\n",
      "  df_test['Time'] = pd.to_datetime(df_test['Time'])\n"
     ]
    }
   ],
   "source": [
    "df_test = pd.read_csv(\"/Users/anurag/Desktop/Computer Science/Monash/2023/FIT3164 Data Science Project Semester 2/Electricity-Demand-Forecasting/Data/Forecast_Data/forecasts.csv\")\n",
    "\n",
    "df_test['Time'] = pd.to_datetime(df_test['Time'])"
   ]
  },
  {
   "cell_type": "code",
   "execution_count": 4,
   "metadata": {},
   "outputs": [],
   "source": [
    "def combine_rows_with_different_attribute_names(df, df_test):\n",
    "    combined_data_list = []\n",
    "\n",
    "    # start at 0, stop 168 + 1 rows before end, jump by 24 hours / 1 day.\n",
    "    for i in range(0, len(df_test) - (168 + 1), 24):\n",
    "        combined_data = {}\n",
    "        \n",
    "        if i + 168 + 24 >= (len(df_test)):\n",
    "            break\n",
    "        \n",
    "        for j in range(168):\n",
    "            row = df.iloc[i + j]\n",
    "\n",
    "            # Iterate over columns and update column names\n",
    "            for col, val in row.items():\n",
    "                combined_data[f\"{col}_date{j+1}\"] = val\n",
    "        \n",
    "        # Append the combined data dictionary to the list\n",
    "        \n",
    "        for j in range(48):\n",
    "            # if i + j + 168 >= (len(df_test) - 1):\n",
    "            #     break\n",
    "            row = df_test.iloc[i + j + 168]\n",
    "            \n",
    "            for col, val in row.items():\n",
    "                combined_data[f\"{col}_test_date{j+1}\"] = val\n",
    "            \n",
    "            \n",
    "        combined_data_list.append(combined_data)\n",
    "\n",
    "    # Convert the list of dictionaries into a DataFrame\n",
    "    combined_df = pd.DataFrame(combined_data_list)\n",
    "\n",
    "    return combined_df\n",
    "\n",
    "# Example usage:\n",
    "# Assuming you have a DataFrame named df_train\n",
    "formatted_data = combine_rows_with_different_attribute_names(df_train, df_test)\n"
   ]
  },
  {
   "cell_type": "code",
   "execution_count": 36,
   "metadata": {},
   "outputs": [],
   "source": [
    "def naive(formatted_data):\n",
    "    \"\"\"\n",
    "    :Input: \n",
    "        :data: The entire dataset of batches.\n",
    "        \n",
    "    For this algorithm, go over each batch, create a list of predctions,\n",
    "    compare these predictions to the predictions to actuals, which can be done through the \n",
    "    next row which introduce the data for the next two days.\n",
    "    \"\"\"\n",
    "\n",
    "    predictions = []\n",
    "    actuals = []\n",
    "    for index, row in formatted_data.iterrows():\n",
    "        predictions.append([])\n",
    "        actuals.append([])\n",
    "        for i in range(121, 169):\n",
    "            column_load = f\"Load (kW)_date{i}\"\n",
    "            column_time = f\"Time_date{i}\"\n",
    "            \n",
    "            # predictions[index] = [load, time of load used to make prediction]\n",
    "            # The load above is for the time to the right plus two days.\n",
    "            \n",
    "            # predictions[index].append([row[column_load], row[column_time]])\n",
    "            \n",
    "            # Just Predicted Load\n",
    "            predictions[index].append(row[column_load]) \n",
    "\n",
    "            \n",
    "            # Append the same data into actuals, but with a two-row offset\n",
    "            offset_index = index + 2\n",
    "            if offset_index < len(formatted_data):\n",
    "                actual_row = formatted_data.iloc[offset_index]\n",
    "                # actuals[index].append([actual_row[column_load], actual_row[column_time]])\n",
    "                \n",
    "                # Just Actual Load\n",
    "                actuals[index].append(actual_row[column_load])\n",
    "                \n",
    "            else:\n",
    "                continue\n",
    "\n",
    "    return predictions, actuals\n",
    "\n",
    "    \n",
    "x, y = naive(formatted_data)\n"
   ]
  },
  {
   "cell_type": "code",
   "execution_count": 49,
   "metadata": {},
   "outputs": [
    {
     "name": "stdout",
     "output_type": "stream",
     "text": [
      "Overall Metrics:\n",
      "Overall MAE: 0.04561668893653571\n",
      "Overall RMSE: 0.0612932683218121\n",
      "Overall MAPE: 6.194156052274302\n",
      "Overall R-squared (R²): -0.19332274430508656\n"
     ]
    }
   ],
   "source": [
    "# Initialize empty lists to store the metrics\n",
    "mae_per_sublist = []\n",
    "rmse_per_sublist = []\n",
    "mape_per_sublist = []\n",
    "r2_per_sublist = []\n",
    "\n",
    "for i in range(len(x)):\n",
    "    if len(x[i]) == 0 or len(y[i]) == 0:\n",
    "        break\n",
    "    \n",
    "    predicted_load = np.array(x[i])\n",
    "    actual_load = np.array(y[i])\n",
    "    \n",
    "    # Calculate the MAE for the current sublist\n",
    "    mae = mean_absolute_error(actual_load, predicted_load)\n",
    "    \n",
    "    # Calculate the RMSE for the current sublist\n",
    "    mse = mean_squared_error(actual_load, predicted_load)\n",
    "    rmse = np.sqrt(mse)\n",
    "    \n",
    "    # Calculate the MAPE for the current sublist\n",
    "    mape = np.mean(np.abs((actual_load - predicted_load) / actual_load)) * 100\n",
    "    \n",
    "    # Calculate the R-squared (R²) for the current sublist\n",
    "    r_squared = r2_score(actual_load, predicted_load)\n",
    "    \n",
    "    # Append Metrics\n",
    "    mae_per_sublist.append(mae)\n",
    "    rmse_per_sublist.append(rmse)\n",
    "    mape_per_sublist.append(mape)\n",
    "    r2_per_sublist.append(r_squared)\n",
    "\n",
    "# Check if there are sublists with non-empty data\n",
    "if len(mae_per_sublist) > 0:\n",
    "    # Calculate the overall metrics by taking the mean of all sublists' values\n",
    "    overall_mae = np.mean(mae_per_sublist)\n",
    "    overall_rmse = np.mean(rmse_per_sublist)\n",
    "    overall_mape = np.mean(mape_per_sublist)\n",
    "    overall_r2 = np.mean(r2_per_sublist)\n",
    "\n",
    "    # Print the metrics for each sublist and the overall metrics\n",
    "    # for i in range(len(mae_per_sublist)):\n",
    "    #     print(f\"Metrics for sublist {i+1}:\")\n",
    "    #     print(f\"MAE: {mae_per_sublist[i]}\")\n",
    "    #     print(f\"RMSE: {rmse_per_sublist[i]}\")\n",
    "    #     print(f\"MAPE: {mape_per_sublist[i]}\")\n",
    "    #     print(f\"R-squared (R²): {r2_per_sublist[i]}\\n\")\n",
    "\n",
    "    print(\"Overall Metrics:\")\n",
    "    print(f\"Overall MAE: {overall_mae}\")\n",
    "    print(f\"Overall RMSE: {overall_rmse}\")\n",
    "    print(f\"Overall MAPE: {overall_mape}\")\n",
    "    print(f\"Overall R-squared (R²): {overall_r2}\")\n",
    "else:\n",
    "    print(\"No valid data to calculate metrics.\")\n"
   ]
  }
 ],
 "metadata": {
  "kernelspec": {
   "display_name": "elecDemandEnv",
   "language": "python",
   "name": "python3"
  },
  "language_info": {
   "codemirror_mode": {
    "name": "ipython",
    "version": 3
   },
   "file_extension": ".py",
   "mimetype": "text/x-python",
   "name": "python",
   "nbconvert_exporter": "python",
   "pygments_lexer": "ipython3",
   "version": "3.9.5"
  },
  "orig_nbformat": 4
 },
 "nbformat": 4,
 "nbformat_minor": 2
}
