{
 "cells": [
  {
   "cell_type": "code",
   "execution_count": 2,
   "metadata": {},
   "outputs": [],
   "source": [
    "import pandas as pd\n",
    "import numpy as np\n",
    "import json"
   ]
  },
  {
   "cell_type": "code",
   "execution_count": 22,
   "metadata": {},
   "outputs": [],
   "source": [
    "class CreatingDataStructure():\n",
    "    def __init__(self, df : pd.DataFrame, filename = \"output.json\", data  = {}) -> None:\n",
    "        self.df = df\n",
    "        self.dict_data = data\n",
    "        self.filename = filename\n",
    "        \n",
    "        self.df = self.df.set_index(\"Time\") #set index as Time\n",
    "        pd.to_datetime(self.df.index) #Ensure Time is of type DateTime\n",
    "    \n",
    "        \n",
    "    def loadDict(self):\n",
    "        for index, info in self.df.iterrows():\n",
    "            day = str(index.date())\n",
    "            hour = str(index.hour)\n",
    "        \n",
    "        \n",
    "            #Create nested dictionary if not created already\n",
    "            if day not in self.dict_data:\n",
    "                self.dict_data[day] = {}\n",
    "                \n",
    "            if hour not in self.dict_data[day]:\n",
    "                self.dict_data[day][hour] = {}\n",
    "                \n",
    "            #Adding each hours data into the nested dict.\n",
    "            self.dict_data[day][hour][index] = info.to_dict()\n",
    "        \n",
    "        \n",
    "    def createJson(self):\n",
    "        with open(self.filename, 'w') as json_file:\n",
    "            json.dump(self.dict_data, json_file, indent = 4)\n",
    "            \n",
    "            \n",
    "        "
   ]
  },
  {
   "cell_type": "code",
   "execution_count": 24,
   "metadata": {},
   "outputs": [],
   "source": [
    "df = pd.read_excel(\"/Users/anurag/Desktop/Computer Science/Monash/2023/FIT3164 Data Science Project Semester 2/Electricity-Demand-Forecasting/Data/Training Data/FirstHalfActuals.xlsx\")\n",
    "df2 = pd.read_excel(\"/Users/anurag/Desktop/Computer Science/Monash/2023/FIT3164 Data Science Project Semester 2/Electricity-Demand-Forecasting/Data/Training Data/SecondHalfActuals.xlsx\")\n",
    "\n",
    "#Create Whole Dataset\n",
    "df = pd.concat([df, df2], axis = 0)"
   ]
  },
  {
   "cell_type": "code",
   "execution_count": null,
   "metadata": {},
   "outputs": [],
   "source": [
    "#Creating Data Structure\n",
    "data_structure = CreatingDataStructure(df)\n",
    "\n",
    "# Load data into the nested dictionary\n",
    "data_structure.loadDict()\n",
    "\n",
    "# Access the nested dictionary\n",
    "nested_dict = data_structure.dict_data\n",
    "nested_dict"
   ]
  }
 ],
 "metadata": {
  "kernelspec": {
   "display_name": "elecDemandEnv",
   "language": "python",
   "name": "python3"
  },
  "language_info": {
   "codemirror_mode": {
    "name": "ipython",
    "version": 3
   },
   "file_extension": ".py",
   "mimetype": "text/x-python",
   "name": "python",
   "nbconvert_exporter": "python",
   "pygments_lexer": "ipython3",
   "version": "3.9.5"
  },
  "orig_nbformat": 4
 },
 "nbformat": 4,
 "nbformat_minor": 2
}
